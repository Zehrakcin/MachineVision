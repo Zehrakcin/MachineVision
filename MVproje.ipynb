{
 "cells": [
  {
   "cell_type": "code",
   "execution_count": 1,
   "id": "2c19bc7f-9374-466c-9bbe-41afc9ddc11a",
   "metadata": {},
   "outputs": [],
   "source": [
    "import cv2\n",
    "import os\n",
    "import time"
   ]
  },
  {
   "cell_type": "code",
   "execution_count": 2,
   "id": "a415beb4-91a1-4a13-9c64-d957b34369a1",
   "metadata": {},
   "outputs": [],
   "source": [
    "image_path='img/'"
   ]
  },
  {
   "cell_type": "code",
   "execution_count": 3,
   "id": "ff98b579-ec8f-4eb5-8862-9e46b76d1a57",
   "metadata": {},
   "outputs": [],
   "source": [
    "labels=['Ördük','Anayurdu1','Anayurdu2','Dört','Baştan1','Baştan2','Türk','Cumhuriyetin','Göğsümüz','Tunç','Siperi']\n",
    "number_img=200\n"
   ]
  },
  {
   "cell_type": "code",
   "execution_count": 4,
   "id": "58eb599f-a0f5-4e4c-8ac8-de20d55adb43",
   "metadata": {},
   "outputs": [
    {
     "name": "stdout",
     "output_type": "stream",
     "text": [
      "Kayıt başlıyor: Ördük\n",
      "Ördük için kayıt tamamlandı.\n"
     ]
    },
    {
     "name": "stdin",
     "output_type": "stream",
     "text": [
      "Bir sonraki kelimeye geçmek için Enter tuşuna basın... \n"
     ]
    },
    {
     "name": "stdout",
     "output_type": "stream",
     "text": [
      "Kayıt başlıyor: Anayurdu1\n",
      "Anayurdu1 için kayıt tamamlandı.\n"
     ]
    },
    {
     "name": "stdin",
     "output_type": "stream",
     "text": [
      "Bir sonraki kelimeye geçmek için Enter tuşuna basın... \n"
     ]
    },
    {
     "name": "stdout",
     "output_type": "stream",
     "text": [
      "Kayıt başlıyor: Anayurdu2\n",
      "Anayurdu2 için kayıt tamamlandı.\n"
     ]
    },
    {
     "name": "stdin",
     "output_type": "stream",
     "text": [
      "Bir sonraki kelimeye geçmek için Enter tuşuna basın... \n"
     ]
    },
    {
     "name": "stdout",
     "output_type": "stream",
     "text": [
      "Kayıt başlıyor: Dört\n",
      "Dört için kayıt tamamlandı.\n"
     ]
    },
    {
     "name": "stdin",
     "output_type": "stream",
     "text": [
      "Bir sonraki kelimeye geçmek için Enter tuşuna basın... \n"
     ]
    },
    {
     "name": "stdout",
     "output_type": "stream",
     "text": [
      "Kayıt başlıyor: Baştan1\n",
      "Baştan1 için kayıt tamamlandı.\n"
     ]
    },
    {
     "name": "stdin",
     "output_type": "stream",
     "text": [
      "Bir sonraki kelimeye geçmek için Enter tuşuna basın... \n"
     ]
    },
    {
     "name": "stdout",
     "output_type": "stream",
     "text": [
      "Kayıt başlıyor: Baştan2\n",
      "Baştan2 için kayıt tamamlandı.\n"
     ]
    },
    {
     "name": "stdin",
     "output_type": "stream",
     "text": [
      "Bir sonraki kelimeye geçmek için Enter tuşuna basın... \n"
     ]
    },
    {
     "name": "stdout",
     "output_type": "stream",
     "text": [
      "Kayıt başlıyor: Türk\n",
      "Türk için kayıt tamamlandı.\n"
     ]
    },
    {
     "name": "stdin",
     "output_type": "stream",
     "text": [
      "Bir sonraki kelimeye geçmek için Enter tuşuna basın... \n"
     ]
    },
    {
     "name": "stdout",
     "output_type": "stream",
     "text": [
      "Kayıt başlıyor: Cumhuriyetin\n",
      "Cumhuriyetin için kayıt tamamlandı.\n"
     ]
    },
    {
     "name": "stdin",
     "output_type": "stream",
     "text": [
      "Bir sonraki kelimeye geçmek için Enter tuşuna basın... \n"
     ]
    },
    {
     "name": "stdout",
     "output_type": "stream",
     "text": [
      "Kayıt başlıyor: Göğsümüz\n",
      "Göğsümüz için kayıt tamamlandı.\n"
     ]
    },
    {
     "name": "stdin",
     "output_type": "stream",
     "text": [
      "Bir sonraki kelimeye geçmek için Enter tuşuna basın... \n"
     ]
    },
    {
     "name": "stdout",
     "output_type": "stream",
     "text": [
      "Kayıt başlıyor: Tunç\n",
      "Tunç için kayıt tamamlandı.\n"
     ]
    },
    {
     "name": "stdin",
     "output_type": "stream",
     "text": [
      "Bir sonraki kelimeye geçmek için Enter tuşuna basın... \n"
     ]
    },
    {
     "name": "stdout",
     "output_type": "stream",
     "text": [
      "Kayıt başlıyor: Siperi\n",
      "Siperi için kayıt tamamlandı.\n"
     ]
    },
    {
     "name": "stderr",
     "output_type": "stream",
     "text": [
      "\n",
      "KeyboardInterrupt\n",
      "\n"
     ]
    }
   ],
   "source": [
    "for label in labels:\n",
    "    os.makedirs(os.path.join(image_path, label), exist_ok=True)\n",
    "    cap = cv2.VideoCapture(0)\n",
    "    print(f\"Kayıt başlıyor: {label}\")\n",
    "    time.sleep(3)\n",
    "    \n",
    "    for imgNum in range(number_img):\n",
    "        ret, frame = cap.read()\n",
    "        if not ret:\n",
    "            print(\"Kamera görüntüsü alınamadı.\")\n",
    "            break\n",
    "\n",
    "        file_path = os.path.join(image_path, label, f\"{label}_{imgNum}.jpg\")\n",
    "        cv2.imwrite(file_path, frame)\n",
    "        cv2.imshow('frame', frame)\n",
    "        time.sleep(0.2)\n",
    "\n",
    "        if cv2.waitKey(1) & 0xFF == ord('q'):\n",
    "            break\n",
    "    \n",
    "    cap.release()\n",
    "    cv2.destroyAllWindows()\n",
    "    print(f\"{label} için kayıt tamamlandı.\")\n",
    "    \n",
    "    # Kullanıcıdan devam için onay al\n",
    "    input(\"Bir sonraki kelimeye geçmek için Enter tuşuna basın...\")"
   ]
  },
  {
   "cell_type": "code",
   "execution_count": null,
   "id": "1ba471a7-1535-46fb-81c0-2a8c829a2311",
   "metadata": {},
   "outputs": [],
   "source": []
  },
  {
   "cell_type": "code",
   "execution_count": null,
   "id": "6d6f76d0-7084-46e9-a083-5cadc3e428fd",
   "metadata": {},
   "outputs": [],
   "source": []
  }
 ],
 "metadata": {
  "kernelspec": {
   "display_name": "Python 3 (ipykernel)",
   "language": "python",
   "name": "python3"
  },
  "language_info": {
   "codemirror_mode": {
    "name": "ipython",
    "version": 3
   },
   "file_extension": ".py",
   "mimetype": "text/x-python",
   "name": "python",
   "nbconvert_exporter": "python",
   "pygments_lexer": "ipython3",
   "version": "3.11.7"
  }
 },
 "nbformat": 4,
 "nbformat_minor": 5
}
